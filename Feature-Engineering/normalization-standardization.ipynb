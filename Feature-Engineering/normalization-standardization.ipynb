{
 "cells": [
  {
   "cell_type": "markdown",
   "id": "902bf12a-a106-4cb9-bdea-027e1dcdbf2d",
   "metadata": {},
   "source": [
    "## Normalization And Standardization"
   ]
  },
  {
   "cell_type": "code",
   "execution_count": null,
   "id": "8147e93f-f00e-450e-b5d1-19a034f8555a",
   "metadata": {},
   "outputs": [],
   "source": []
  }
 ],
 "metadata": {
  "kernelspec": {
   "display_name": "Python 3",
   "language": "python",
   "name": "python3"
  },
  "language_info": {
   "codemirror_mode": {
    "name": "ipython",
    "version": 3
   },
   "file_extension": ".py",
   "mimetype": "text/x-python",
   "name": "python",
   "nbconvert_exporter": "python",
   "pygments_lexer": "ipython3",
   "version": "3.9.7"
  }
 },
 "nbformat": 4,
 "nbformat_minor": 5
}
