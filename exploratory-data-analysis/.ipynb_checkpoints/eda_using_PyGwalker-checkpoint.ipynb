{
 "cells": [
  {
   "cell_type": "markdown",
   "id": "4a9c3d99",
   "metadata": {},
   "source": [
    "# EDA using PyGwalker\n",
    "EDA involves analyzing and visualizing data to understand its underlying patterns, relationships, and trends. Data scientists use statistical methods and visualization techniques to explore the data and gain insights.\n",
    "\n",
    "## PyGwalker\n",
    "PyGWalker can simplify your Jupyter Notebook data analysis and data visualization workflow, by turning your pandas dataframe (and polars dataframe) into a Tableau-style User Interface for visual exploration.\n",
    "\n",
    "It integrates Jupyter Notebook (or other jupyter-based notebooks) with Graphic Walker, a different type of open-source alternative to Tableau. It allows data scientists to analyze data and visualize patterns with simple drag-and-drop operations."
   ]
  },
  {
   "cell_type": "markdown",
   "id": "02ccf67c",
   "metadata": {},
   "source": [
    "## 1. Installation"
   ]
  },
  {
   "cell_type": "code",
   "execution_count": null,
   "id": "97048575",
   "metadata": {},
   "outputs": [
    {
     "name": "stdout",
     "output_type": "stream",
     "text": [
      "Requirement already satisfied: pygwalker in /home/surajkarki/anaconda3/lib/python3.11/site-packages (0.4.6)\n",
      "Requirement already satisfied: altair>=5.0.0 in /home/surajkarki/anaconda3/lib/python3.11/site-packages (from pygwalker) (5.2.0)\n",
      "Requirement already satisfied: appdirs in /home/surajkarki/anaconda3/lib/python3.11/site-packages (from pygwalker) (1.4.4)\n",
      "Requirement already satisfied: arrow in /home/surajkarki/anaconda3/lib/python3.11/site-packages (from pygwalker) (1.2.3)\n",
      "Requirement already satisfied: astor in /home/surajkarki/anaconda3/lib/python3.11/site-packages (from pygwalker) (0.8.1)\n",
      "Requirement already satisfied: cachetools in /home/surajkarki/anaconda3/lib/python3.11/site-packages (from pygwalker) (4.2.2)\n",
      "Requirement already satisfied: duckdb==0.9.2 in /home/surajkarki/anaconda3/lib/python3.11/site-packages (from pygwalker) (0.9.2)\n",
      "Requirement already satisfied: gw-dsl-parser==0.1.44 in /home/surajkarki/anaconda3/lib/python3.11/site-packages (from pygwalker) (0.1.44)\n",
      "Requirement already satisfied: ipython in /home/surajkarki/anaconda3/lib/python3.11/site-packages (from pygwalker) (8.15.0)\n",
      "Requirement already satisfied: ipywidgets in /home/surajkarki/anaconda3/lib/python3.11/site-packages (from pygwalker) (8.0.4)\n",
      "Requirement already satisfied: jinja2 in /home/surajkarki/anaconda3/lib/python3.11/site-packages (from pygwalker) (3.1.2)\n",
      "Requirement already satisfied: kanaries-track==0.0.4 in /home/surajkarki/anaconda3/lib/python3.11/site-packages (from pygwalker) (0.0.4)\n",
      "Requirement already satisfied: pandas in /home/surajkarki/anaconda3/lib/python3.11/site-packages (from pygwalker) (2.0.3)\n",
      "Requirement already satisfied: psutil in /home/surajkarki/anaconda3/lib/python3.11/site-packages (from pygwalker) (5.9.0)\n",
      "Requirement already satisfied: pyarrow in /home/surajkarki/anaconda3/lib/python3.11/site-packages (from pygwalker) (11.0.0)\n",
      "Requirement already satisfied: pydantic in /home/surajkarki/.local/lib/python3.11/site-packages (from pygwalker) (2.5.3)\n",
      "Requirement already satisfied: pytz in /home/surajkarki/anaconda3/lib/python3.11/site-packages (from pygwalker) (2023.3.post1)\n",
      "Requirement already satisfied: requests in /home/surajkarki/anaconda3/lib/python3.11/site-packages (from pygwalker) (2.31.0)\n",
      "Requirement already satisfied: segment-analytics-python==2.2.3 in /home/surajkarki/anaconda3/lib/python3.11/site-packages (from pygwalker) (2.2.3)\n",
      "Requirement already satisfied: sqlalchemy in /home/surajkarki/anaconda3/lib/python3.11/site-packages (from pygwalker) (1.4.39)\n",
      "Requirement already satisfied: sqlglot>=19.0.0 in /home/surajkarki/anaconda3/lib/python3.11/site-packages (from pygwalker) (19.8.3)\n",
      "Requirement already satisfied: typing-extensions in /home/surajkarki/anaconda3/lib/python3.11/site-packages (from pygwalker) (4.7.1)\n",
      "Requirement already satisfied: wasmtime==12.0.0 in /home/surajkarki/anaconda3/lib/python3.11/site-packages (from gw-dsl-parser==0.1.44->pygwalker) (12.0.0)\n",
      "Requirement already satisfied: backoff>=2.2.1 in /home/surajkarki/anaconda3/lib/python3.11/site-packages (from kanaries-track==0.0.4->pygwalker) (2.2.1)\n",
      "Requirement already satisfied: dateutils>=0.6.12 in /home/surajkarki/anaconda3/lib/python3.11/site-packages (from kanaries-track==0.0.4->pygwalker) (0.6.12)\n",
      "Requirement already satisfied: monotonic~=1.5 in /home/surajkarki/anaconda3/lib/python3.11/site-packages (from segment-analytics-python==2.2.3->pygwalker) (1.6)\n",
      "Requirement already satisfied: python-dateutil~=2.2 in /home/surajkarki/anaconda3/lib/python3.11/site-packages (from segment-analytics-python==2.2.3->pygwalker) (2.8.2)\n",
      "Requirement already satisfied: jsonschema>=3.0 in /home/surajkarki/anaconda3/lib/python3.11/site-packages (from altair>=5.0.0->pygwalker) (4.17.3)\n",
      "Requirement already satisfied: numpy in /home/surajkarki/anaconda3/lib/python3.11/site-packages (from altair>=5.0.0->pygwalker) (1.24.4)\n",
      "Requirement already satisfied: packaging in /home/surajkarki/anaconda3/lib/python3.11/site-packages (from altair>=5.0.0->pygwalker) (23.1)\n",
      "Requirement already satisfied: toolz in /home/surajkarki/anaconda3/lib/python3.11/site-packages (from altair>=5.0.0->pygwalker) (0.12.0)\n",
      "Requirement already satisfied: tzdata>=2022.1 in /home/surajkarki/anaconda3/lib/python3.11/site-packages (from pandas->pygwalker) (2023.3)\n",
      "Requirement already satisfied: charset-normalizer<4,>=2 in /home/surajkarki/anaconda3/lib/python3.11/site-packages (from requests->pygwalker) (2.0.4)\n",
      "Requirement already satisfied: idna<4,>=2.5 in /home/surajkarki/anaconda3/lib/python3.11/site-packages (from requests->pygwalker) (3.4)\n",
      "Requirement already satisfied: urllib3<3,>=1.21.1 in /home/surajkarki/anaconda3/lib/python3.11/site-packages (from requests->pygwalker) (1.26.6)\n",
      "Requirement already satisfied: certifi>=2017.4.17 in /home/surajkarki/anaconda3/lib/python3.11/site-packages (from requests->pygwalker) (2023.7.22)\n",
      "Requirement already satisfied: backcall in /home/surajkarki/anaconda3/lib/python3.11/site-packages (from ipython->pygwalker) (0.2.0)\n",
      "Requirement already satisfied: decorator in /home/surajkarki/anaconda3/lib/python3.11/site-packages (from ipython->pygwalker) (5.1.1)\n",
      "Requirement already satisfied: jedi>=0.16 in /home/surajkarki/anaconda3/lib/python3.11/site-packages (from ipython->pygwalker) (0.18.1)\n",
      "Requirement already satisfied: matplotlib-inline in /home/surajkarki/anaconda3/lib/python3.11/site-packages (from ipython->pygwalker) (0.1.6)\n",
      "Requirement already satisfied: pickleshare in /home/surajkarki/anaconda3/lib/python3.11/site-packages (from ipython->pygwalker) (0.7.5)\n",
      "Requirement already satisfied: prompt-toolkit!=3.0.37,<3.1.0,>=3.0.30 in /home/surajkarki/anaconda3/lib/python3.11/site-packages (from ipython->pygwalker) (3.0.36)\n",
      "Requirement already satisfied: pygments>=2.4.0 in /home/surajkarki/anaconda3/lib/python3.11/site-packages (from ipython->pygwalker) (2.15.1)\n",
      "Requirement already satisfied: stack-data in /home/surajkarki/anaconda3/lib/python3.11/site-packages (from ipython->pygwalker) (0.2.0)\n",
      "Requirement already satisfied: traitlets>=5 in /home/surajkarki/anaconda3/lib/python3.11/site-packages (from ipython->pygwalker) (5.7.1)\n",
      "Requirement already satisfied: pexpect>4.3 in /home/surajkarki/anaconda3/lib/python3.11/site-packages (from ipython->pygwalker) (4.8.0)\n",
      "Requirement already satisfied: ipykernel>=4.5.1 in /home/surajkarki/anaconda3/lib/python3.11/site-packages (from ipywidgets->pygwalker) (6.25.0)\n",
      "Requirement already satisfied: widgetsnbextension~=4.0 in /home/surajkarki/anaconda3/lib/python3.11/site-packages (from ipywidgets->pygwalker) (4.0.5)\n",
      "Requirement already satisfied: jupyterlab-widgets~=3.0 in /home/surajkarki/anaconda3/lib/python3.11/site-packages (from ipywidgets->pygwalker) (3.0.5)\n",
      "Requirement already satisfied: MarkupSafe>=2.0 in /home/surajkarki/anaconda3/lib/python3.11/site-packages (from jinja2->pygwalker) (2.1.1)\n",
      "Requirement already satisfied: annotated-types>=0.4.0 in /home/surajkarki/.local/lib/python3.11/site-packages (from pydantic->pygwalker) (0.6.0)\n",
      "Requirement already satisfied: pydantic-core==2.14.6 in /home/surajkarki/.local/lib/python3.11/site-packages (from pydantic->pygwalker) (2.14.6)\n",
      "Requirement already satisfied: greenlet!=0.4.17 in /home/surajkarki/anaconda3/lib/python3.11/site-packages (from sqlalchemy->pygwalker) (2.0.1)\n",
      "Requirement already satisfied: comm>=0.1.1 in /home/surajkarki/anaconda3/lib/python3.11/site-packages (from ipykernel>=4.5.1->ipywidgets->pygwalker) (0.1.2)\n",
      "Requirement already satisfied: debugpy>=1.6.5 in /home/surajkarki/anaconda3/lib/python3.11/site-packages (from ipykernel>=4.5.1->ipywidgets->pygwalker) (1.6.7)\n",
      "Requirement already satisfied: jupyter-client>=6.1.12 in /home/surajkarki/anaconda3/lib/python3.11/site-packages (from ipykernel>=4.5.1->ipywidgets->pygwalker) (7.4.9)\n",
      "Requirement already satisfied: jupyter-core!=5.0.*,>=4.12 in /home/surajkarki/anaconda3/lib/python3.11/site-packages (from ipykernel>=4.5.1->ipywidgets->pygwalker) (5.3.0)\n",
      "Requirement already satisfied: nest-asyncio in /home/surajkarki/anaconda3/lib/python3.11/site-packages (from ipykernel>=4.5.1->ipywidgets->pygwalker) (1.5.6)\n",
      "Requirement already satisfied: pyzmq>=20 in /home/surajkarki/anaconda3/lib/python3.11/site-packages (from ipykernel>=4.5.1->ipywidgets->pygwalker) (23.2.0)\n",
      "Requirement already satisfied: tornado>=6.1 in /home/surajkarki/anaconda3/lib/python3.11/site-packages (from ipykernel>=4.5.1->ipywidgets->pygwalker) (6.3.2)\n",
      "Requirement already satisfied: parso<0.9.0,>=0.8.0 in /home/surajkarki/anaconda3/lib/python3.11/site-packages (from jedi>=0.16->ipython->pygwalker) (0.8.3)\n"
     ]
    },
    {
     "name": "stdout",
     "output_type": "stream",
     "text": [
      "Requirement already satisfied: attrs>=17.4.0 in /home/surajkarki/anaconda3/lib/python3.11/site-packages (from jsonschema>=3.0->altair>=5.0.0->pygwalker) (22.1.0)\n",
      "Requirement already satisfied: pyrsistent!=0.17.0,!=0.17.1,!=0.17.2,>=0.14.0 in /home/surajkarki/anaconda3/lib/python3.11/site-packages (from jsonschema>=3.0->altair>=5.0.0->pygwalker) (0.18.0)\n",
      "Requirement already satisfied: ptyprocess>=0.5 in /home/surajkarki/anaconda3/lib/python3.11/site-packages (from pexpect>4.3->ipython->pygwalker) (0.7.0)\n",
      "Requirement already satisfied: wcwidth in /home/surajkarki/anaconda3/lib/python3.11/site-packages (from prompt-toolkit!=3.0.37,<3.1.0,>=3.0.30->ipython->pygwalker) (0.2.5)\n",
      "Requirement already satisfied: six>=1.5 in /home/surajkarki/anaconda3/lib/python3.11/site-packages (from python-dateutil~=2.2->segment-analytics-python==2.2.3->pygwalker) (1.16.0)\n",
      "Requirement already satisfied: executing in /home/surajkarki/anaconda3/lib/python3.11/site-packages (from stack-data->ipython->pygwalker) (0.8.3)\n",
      "Requirement already satisfied: asttokens in /home/surajkarki/anaconda3/lib/python3.11/site-packages (from stack-data->ipython->pygwalker) (2.0.5)\n",
      "Requirement already satisfied: pure-eval in /home/surajkarki/anaconda3/lib/python3.11/site-packages (from stack-data->ipython->pygwalker) (0.2.2)\n",
      "Requirement already satisfied: entrypoints in /home/surajkarki/anaconda3/lib/python3.11/site-packages (from jupyter-client>=6.1.12->ipykernel>=4.5.1->ipywidgets->pygwalker) (0.4)\n",
      "Requirement already satisfied: platformdirs>=2.5 in /home/surajkarki/.local/lib/python3.11/site-packages (from jupyter-core!=5.0.*,>=4.12->ipykernel>=4.5.1->ipywidgets->pygwalker) (3.11.0)\n"
     ]
    }
   ],
   "source": [
    "!pip install pygwalker"
   ]
  },
  {
   "cell_type": "markdown",
   "id": "9a2ab8b7",
   "metadata": {},
   "source": [
    "## 2. Imports"
   ]
  },
  {
   "cell_type": "code",
   "execution_count": null,
   "id": "adfb9dad",
   "metadata": {},
   "outputs": [],
   "source": [
    "import pandas as pd\n",
    "import pygwalker as pyg"
   ]
  },
  {
   "cell_type": "markdown",
   "id": "12749229",
   "metadata": {},
   "source": [
    "## 3. Load the data"
   ]
  },
  {
   "cell_type": "code",
   "execution_count": null,
   "id": "4c7e6891",
   "metadata": {},
   "outputs": [],
   "source": [
    "df = pd.read_csv(\"churn-bigml-80.csv\")\n",
    "df.head()"
   ]
  },
  {
   "cell_type": "code",
   "execution_count": null,
   "id": "ff83a531",
   "metadata": {},
   "outputs": [],
   "source": [
    "pyg.walk(df)"
   ]
  },
  {
   "cell_type": "code",
   "execution_count": null,
   "id": "8723e10a",
   "metadata": {},
   "outputs": [],
   "source": []
  }
 ],
 "metadata": {
  "kernelspec": {
   "display_name": "Python 3 (ipykernel)",
   "language": "python",
   "name": "python3"
  },
  "language_info": {
   "codemirror_mode": {
    "name": "ipython",
    "version": 3
   },
   "file_extension": ".py",
   "mimetype": "text/x-python",
   "name": "python",
   "nbconvert_exporter": "python",
   "pygments_lexer": "ipython3",
   "version": "3.11.5"
  }
 },
 "nbformat": 4,
 "nbformat_minor": 5
}
